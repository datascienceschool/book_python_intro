{
 "cells": [
  {
   "cell_type": "markdown",
   "metadata": {},
   "source": [
    "# 1장 파이썬 설치와 설정"
   ]
  },
  {
   "cell_type": "markdown",
   "metadata": {},
   "source": [
    "이 장에서는 파이썬을 설치하고 설정하는 방법에 대해 설명한다. 처음으로 아나콘다 파이썬을 설치하여 파이썬과 아이파이썬, 주피터 노트북을 사용하는 경우에는 이 장을 읽고 익숙해져야 한다. 이미 파이썬 설치하여 사용하고 있는 독자는 이 장을 생략하고 다음 장부터 학습을 시작할 수 있다."
   ]
  },
  {
   "cell_type": "markdown",
   "metadata": {},
   "source": [
    "## 학습 목표"
   ]
  },
  {
   "cell_type": "markdown",
   "metadata": {},
   "source": [
    "* 파이썬의 종류와 버전에 대해 학습한다.\n",
    "* 아나콘다 파이썬 배포판을 받아 설치하는 방법을 배운다.\n",
    "* 파이썬, 아이파이썬, 파이썬 노트북을 실행하는 방법을 익힌다.\n",
    "* 아이파이썬을 위한 스타트업 파일을 설정해 본다."
   ]
  }
 ],
 "metadata": {
  "kernelspec": {
   "display_name": "Python 3",
   "language": "python",
   "name": "python3"
  },
  "language_info": {
   "codemirror_mode": {
    "name": "ipython",
    "version": 3
   },
   "file_extension": ".py",
   "mimetype": "text/x-python",
   "name": "python",
   "nbconvert_exporter": "python",
   "pygments_lexer": "ipython3",
   "version": "3.8.3"
  }
 },
 "nbformat": 4,
 "nbformat_minor": 4
}
